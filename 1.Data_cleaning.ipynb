{
 "cells": [
  {
   "cell_type": "markdown",
   "metadata": {},
   "source": [
    "# Import Libraries"
   ]
  },
  {
   "cell_type": "code",
   "execution_count": 2,
   "metadata": {},
   "outputs": [],
   "source": [
    "import numpy as np\n",
    "import pandas as pd\n",
    "import matplotlib.pyplot as plt\n",
    "%matplotlib inline\n",
    "import matplotlib"
   ]
  },
  {
   "cell_type": "code",
   "execution_count": 4,
   "metadata": {},
   "outputs": [],
   "source": [
    "import seaborn as sns\n",
    "import re\n",
    "import sys\n",
    "from time import sleep"
   ]
  },
  {
   "cell_type": "markdown",
   "metadata": {},
   "source": [
    "# Load dataset"
   ]
  },
  {
   "cell_type": "code",
   "execution_count": 6,
   "metadata": {},
   "outputs": [],
   "source": [
    "df=pd.read_csv(\"Bengaluru_House_Data.csv\")"
   ]
  },
  {
   "cell_type": "code",
   "execution_count": 7,
   "metadata": {},
   "outputs": [
    {
     "data": {
      "text/html": [
       "<div>\n",
       "<style scoped>\n",
       "    .dataframe tbody tr th:only-of-type {\n",
       "        vertical-align: middle;\n",
       "    }\n",
       "\n",
       "    .dataframe tbody tr th {\n",
       "        vertical-align: top;\n",
       "    }\n",
       "\n",
       "    .dataframe thead th {\n",
       "        text-align: right;\n",
       "    }\n",
       "</style>\n",
       "<table border=\"1\" class=\"dataframe\">\n",
       "  <thead>\n",
       "    <tr style=\"text-align: right;\">\n",
       "      <th></th>\n",
       "      <th>area_type</th>\n",
       "      <th>availability</th>\n",
       "      <th>location</th>\n",
       "      <th>size</th>\n",
       "      <th>society</th>\n",
       "      <th>total_sqft</th>\n",
       "      <th>bath</th>\n",
       "      <th>balcony</th>\n",
       "      <th>price</th>\n",
       "    </tr>\n",
       "  </thead>\n",
       "  <tbody>\n",
       "    <tr>\n",
       "      <td>0</td>\n",
       "      <td>Super built-up  Area</td>\n",
       "      <td>19-Dec</td>\n",
       "      <td>Electronic City Phase II</td>\n",
       "      <td>2 BHK</td>\n",
       "      <td>Coomee</td>\n",
       "      <td>1056</td>\n",
       "      <td>2.0</td>\n",
       "      <td>1.0</td>\n",
       "      <td>39.07</td>\n",
       "    </tr>\n",
       "    <tr>\n",
       "      <td>1</td>\n",
       "      <td>Plot  Area</td>\n",
       "      <td>Ready To Move</td>\n",
       "      <td>Chikka Tirupathi</td>\n",
       "      <td>4 Bedroom</td>\n",
       "      <td>Theanmp</td>\n",
       "      <td>2600</td>\n",
       "      <td>5.0</td>\n",
       "      <td>3.0</td>\n",
       "      <td>120.00</td>\n",
       "    </tr>\n",
       "    <tr>\n",
       "      <td>2</td>\n",
       "      <td>Built-up  Area</td>\n",
       "      <td>Ready To Move</td>\n",
       "      <td>Uttarahalli</td>\n",
       "      <td>3 BHK</td>\n",
       "      <td>NaN</td>\n",
       "      <td>1440</td>\n",
       "      <td>2.0</td>\n",
       "      <td>3.0</td>\n",
       "      <td>62.00</td>\n",
       "    </tr>\n",
       "    <tr>\n",
       "      <td>3</td>\n",
       "      <td>Super built-up  Area</td>\n",
       "      <td>Ready To Move</td>\n",
       "      <td>Lingadheeranahalli</td>\n",
       "      <td>3 BHK</td>\n",
       "      <td>Soiewre</td>\n",
       "      <td>1521</td>\n",
       "      <td>3.0</td>\n",
       "      <td>1.0</td>\n",
       "      <td>95.00</td>\n",
       "    </tr>\n",
       "    <tr>\n",
       "      <td>4</td>\n",
       "      <td>Super built-up  Area</td>\n",
       "      <td>Ready To Move</td>\n",
       "      <td>Kothanur</td>\n",
       "      <td>2 BHK</td>\n",
       "      <td>NaN</td>\n",
       "      <td>1200</td>\n",
       "      <td>2.0</td>\n",
       "      <td>1.0</td>\n",
       "      <td>51.00</td>\n",
       "    </tr>\n",
       "  </tbody>\n",
       "</table>\n",
       "</div>"
      ],
      "text/plain": [
       "              area_type   availability                  location       size  \\\n",
       "0  Super built-up  Area         19-Dec  Electronic City Phase II      2 BHK   \n",
       "1            Plot  Area  Ready To Move          Chikka Tirupathi  4 Bedroom   \n",
       "2        Built-up  Area  Ready To Move               Uttarahalli      3 BHK   \n",
       "3  Super built-up  Area  Ready To Move        Lingadheeranahalli      3 BHK   \n",
       "4  Super built-up  Area  Ready To Move                  Kothanur      2 BHK   \n",
       "\n",
       "   society total_sqft  bath  balcony   price  \n",
       "0  Coomee        1056   2.0      1.0   39.07  \n",
       "1  Theanmp       2600   5.0      3.0  120.00  \n",
       "2      NaN       1440   2.0      3.0   62.00  \n",
       "3  Soiewre       1521   3.0      1.0   95.00  \n",
       "4      NaN       1200   2.0      1.0   51.00  "
      ]
     },
     "execution_count": 7,
     "metadata": {},
     "output_type": "execute_result"
    }
   ],
   "source": [
    "df.head()"
   ]
  },
  {
   "cell_type": "code",
   "execution_count": 9,
   "metadata": {},
   "outputs": [
    {
     "name": "stdout",
     "output_type": "stream",
     "text": [
      "<class 'pandas.core.frame.DataFrame'>\n",
      "RangeIndex: 13320 entries, 0 to 13319\n",
      "Data columns (total 9 columns):\n",
      "area_type       13320 non-null object\n",
      "availability    13320 non-null object\n",
      "location        13319 non-null object\n",
      "size            13304 non-null object\n",
      "society         7818 non-null object\n",
      "total_sqft      13320 non-null object\n",
      "bath            13247 non-null float64\n",
      "balcony         12711 non-null float64\n",
      "price           13320 non-null float64\n",
      "dtypes: float64(3), object(6)\n",
      "memory usage: 936.7+ KB\n"
     ]
    }
   ],
   "source": [
    "df.info()"
   ]
  },
  {
   "cell_type": "code",
   "execution_count": 10,
   "metadata": {},
   "outputs": [
    {
     "data": {
      "text/plain": [
       "(13320, 9)"
      ]
     },
     "execution_count": 10,
     "metadata": {},
     "output_type": "execute_result"
    }
   ],
   "source": [
    "df.shape"
   ]
  },
  {
   "cell_type": "markdown",
   "metadata": {},
   "source": [
    "# Data Cleaning"
   ]
  },
  {
   "cell_type": "code",
   "execution_count": 13,
   "metadata": {},
   "outputs": [
    {
     "data": {
      "text/plain": [
       "area_type          0\n",
       "availability       0\n",
       "location           1\n",
       "size              16\n",
       "society         5502\n",
       "total_sqft         0\n",
       "bath              73\n",
       "balcony          609\n",
       "price              0\n",
       "dtype: int64"
      ]
     },
     "execution_count": 13,
     "metadata": {},
     "output_type": "execute_result"
    }
   ],
   "source": [
    "df.isnull().sum()"
   ]
  },
  {
   "cell_type": "code",
   "execution_count": 15,
   "metadata": {},
   "outputs": [
    {
     "data": {
      "text/html": [
       "<div>\n",
       "<style scoped>\n",
       "    .dataframe tbody tr th:only-of-type {\n",
       "        vertical-align: middle;\n",
       "    }\n",
       "\n",
       "    .dataframe tbody tr th {\n",
       "        vertical-align: top;\n",
       "    }\n",
       "\n",
       "    .dataframe thead th {\n",
       "        text-align: right;\n",
       "    }\n",
       "</style>\n",
       "<table border=\"1\" class=\"dataframe\">\n",
       "  <thead>\n",
       "    <tr style=\"text-align: right;\">\n",
       "      <th></th>\n",
       "      <th>location</th>\n",
       "      <th>size</th>\n",
       "      <th>total_sqft</th>\n",
       "      <th>bath</th>\n",
       "      <th>price</th>\n",
       "    </tr>\n",
       "  </thead>\n",
       "  <tbody>\n",
       "    <tr>\n",
       "      <td>0</td>\n",
       "      <td>Electronic City Phase II</td>\n",
       "      <td>2 BHK</td>\n",
       "      <td>1056</td>\n",
       "      <td>2.0</td>\n",
       "      <td>39.07</td>\n",
       "    </tr>\n",
       "    <tr>\n",
       "      <td>1</td>\n",
       "      <td>Chikka Tirupathi</td>\n",
       "      <td>4 Bedroom</td>\n",
       "      <td>2600</td>\n",
       "      <td>5.0</td>\n",
       "      <td>120.00</td>\n",
       "    </tr>\n",
       "    <tr>\n",
       "      <td>2</td>\n",
       "      <td>Uttarahalli</td>\n",
       "      <td>3 BHK</td>\n",
       "      <td>1440</td>\n",
       "      <td>2.0</td>\n",
       "      <td>62.00</td>\n",
       "    </tr>\n",
       "    <tr>\n",
       "      <td>3</td>\n",
       "      <td>Lingadheeranahalli</td>\n",
       "      <td>3 BHK</td>\n",
       "      <td>1521</td>\n",
       "      <td>3.0</td>\n",
       "      <td>95.00</td>\n",
       "    </tr>\n",
       "    <tr>\n",
       "      <td>4</td>\n",
       "      <td>Kothanur</td>\n",
       "      <td>2 BHK</td>\n",
       "      <td>1200</td>\n",
       "      <td>2.0</td>\n",
       "      <td>51.00</td>\n",
       "    </tr>\n",
       "  </tbody>\n",
       "</table>\n",
       "</div>"
      ],
      "text/plain": [
       "                   location       size total_sqft  bath   price\n",
       "0  Electronic City Phase II      2 BHK       1056   2.0   39.07\n",
       "1          Chikka Tirupathi  4 Bedroom       2600   5.0  120.00\n",
       "2               Uttarahalli      3 BHK       1440   2.0   62.00\n",
       "3        Lingadheeranahalli      3 BHK       1521   3.0   95.00\n",
       "4                  Kothanur      2 BHK       1200   2.0   51.00"
      ]
     },
     "execution_count": 15,
     "metadata": {},
     "output_type": "execute_result"
    }
   ],
   "source": [
    "data=df.drop(['area_type','society','balcony','availability'],axis='columns')\n",
    "data.head()"
   ]
  },
  {
   "cell_type": "code",
   "execution_count": 16,
   "metadata": {},
   "outputs": [
    {
     "data": {
      "text/plain": [
       "location       1\n",
       "size          16\n",
       "total_sqft     0\n",
       "bath          73\n",
       "price          0\n",
       "dtype: int64"
      ]
     },
     "execution_count": 16,
     "metadata": {},
     "output_type": "execute_result"
    }
   ],
   "source": [
    "data.isnull().sum()"
   ]
  },
  {
   "cell_type": "code",
   "execution_count": 18,
   "metadata": {},
   "outputs": [
    {
     "data": {
      "text/plain": [
       "location      0\n",
       "size          0\n",
       "total_sqft    0\n",
       "bath          0\n",
       "price         0\n",
       "dtype: int64"
      ]
     },
     "execution_count": 18,
     "metadata": {},
     "output_type": "execute_result"
    }
   ],
   "source": [
    "data=data.dropna()\n",
    "data.isnull().sum()"
   ]
  },
  {
   "cell_type": "code",
   "execution_count": 29,
   "metadata": {},
   "outputs": [
    {
     "data": {
      "text/plain": [
       "array(['2 BHK', '4 Bedroom', '3 BHK', '4 BHK', '6 Bedroom', '3 Bedroom',\n",
       "       '1 BHK', '1 RK', '1 Bedroom', '8 Bedroom', '2 Bedroom',\n",
       "       '7 Bedroom', '5 BHK', '7 BHK', '6 BHK', '5 Bedroom', '11 BHK',\n",
       "       '9 BHK', '9 Bedroom', '27 BHK', '10 Bedroom', '11 Bedroom',\n",
       "       '10 BHK', '19 BHK', '16 BHK', '43 Bedroom', '14 BHK', '8 BHK',\n",
       "       '12 Bedroom', '13 BHK', '18 Bedroom'], dtype=object)"
      ]
     },
     "execution_count": 29,
     "metadata": {},
     "output_type": "execute_result"
    }
   ],
   "source": [
    "data['size'].unique()"
   ]
  },
  {
   "cell_type": "code",
   "execution_count": 22,
   "metadata": {},
   "outputs": [],
   "source": [
    "def rm_string(val):\n",
    "    val=str(val)\n",
    "    if val=='nan':\n",
    "        val=np.NaN\n",
    "    else:\n",
    "        val=int(val.split(\" \")[0])\n",
    "    return val"
   ]
  },
  {
   "cell_type": "code",
   "execution_count": 30,
   "metadata": {},
   "outputs": [
    {
     "data": {
      "text/plain": [
       "array([ 2,  4,  3,  6,  1,  8,  7,  5, 11,  9, 27, 10, 19, 16, 43, 14, 12,\n",
       "       13, 18], dtype=int64)"
      ]
     },
     "execution_count": 30,
     "metadata": {},
     "output_type": "execute_result"
    }
   ],
   "source": [
    "#create new column for cleaned size column\n",
    "data['BHK'] = data['size'].apply(lambda val: rm_string(val))\n",
    "data['BHK'].unique()"
   ]
  },
  {
   "cell_type": "code",
   "execution_count": 32,
   "metadata": {},
   "outputs": [
    {
     "data": {
      "text/html": [
       "<div>\n",
       "<style scoped>\n",
       "    .dataframe tbody tr th:only-of-type {\n",
       "        vertical-align: middle;\n",
       "    }\n",
       "\n",
       "    .dataframe tbody tr th {\n",
       "        vertical-align: top;\n",
       "    }\n",
       "\n",
       "    .dataframe thead th {\n",
       "        text-align: right;\n",
       "    }\n",
       "</style>\n",
       "<table border=\"1\" class=\"dataframe\">\n",
       "  <thead>\n",
       "    <tr style=\"text-align: right;\">\n",
       "      <th></th>\n",
       "      <th>location</th>\n",
       "      <th>size</th>\n",
       "      <th>total_sqft</th>\n",
       "      <th>bath</th>\n",
       "      <th>price</th>\n",
       "      <th>BHK</th>\n",
       "    </tr>\n",
       "  </thead>\n",
       "  <tbody>\n",
       "    <tr>\n",
       "      <td>459</td>\n",
       "      <td>1 Giri Nagar</td>\n",
       "      <td>11 BHK</td>\n",
       "      <td>5000</td>\n",
       "      <td>9.0</td>\n",
       "      <td>360.0</td>\n",
       "      <td>11</td>\n",
       "    </tr>\n",
       "    <tr>\n",
       "      <td>1718</td>\n",
       "      <td>2Electronic City Phase II</td>\n",
       "      <td>27 BHK</td>\n",
       "      <td>8000</td>\n",
       "      <td>27.0</td>\n",
       "      <td>230.0</td>\n",
       "      <td>27</td>\n",
       "    </tr>\n",
       "    <tr>\n",
       "      <td>1768</td>\n",
       "      <td>1 Ramamurthy Nagar</td>\n",
       "      <td>11 Bedroom</td>\n",
       "      <td>1200</td>\n",
       "      <td>11.0</td>\n",
       "      <td>170.0</td>\n",
       "      <td>11</td>\n",
       "    </tr>\n",
       "    <tr>\n",
       "      <td>3379</td>\n",
       "      <td>1Hanuman Nagar</td>\n",
       "      <td>19 BHK</td>\n",
       "      <td>2000</td>\n",
       "      <td>16.0</td>\n",
       "      <td>490.0</td>\n",
       "      <td>19</td>\n",
       "    </tr>\n",
       "    <tr>\n",
       "      <td>3609</td>\n",
       "      <td>Koramangala Industrial Layout</td>\n",
       "      <td>16 BHK</td>\n",
       "      <td>10000</td>\n",
       "      <td>16.0</td>\n",
       "      <td>550.0</td>\n",
       "      <td>16</td>\n",
       "    </tr>\n",
       "    <tr>\n",
       "      <td>3853</td>\n",
       "      <td>1 Annasandrapalya</td>\n",
       "      <td>11 Bedroom</td>\n",
       "      <td>1200</td>\n",
       "      <td>6.0</td>\n",
       "      <td>150.0</td>\n",
       "      <td>11</td>\n",
       "    </tr>\n",
       "    <tr>\n",
       "      <td>4684</td>\n",
       "      <td>Munnekollal</td>\n",
       "      <td>43 Bedroom</td>\n",
       "      <td>2400</td>\n",
       "      <td>40.0</td>\n",
       "      <td>660.0</td>\n",
       "      <td>43</td>\n",
       "    </tr>\n",
       "    <tr>\n",
       "      <td>4916</td>\n",
       "      <td>1Channasandra</td>\n",
       "      <td>14 BHK</td>\n",
       "      <td>1250</td>\n",
       "      <td>15.0</td>\n",
       "      <td>125.0</td>\n",
       "      <td>14</td>\n",
       "    </tr>\n",
       "    <tr>\n",
       "      <td>6533</td>\n",
       "      <td>Mysore Road</td>\n",
       "      <td>12 Bedroom</td>\n",
       "      <td>2232</td>\n",
       "      <td>6.0</td>\n",
       "      <td>300.0</td>\n",
       "      <td>12</td>\n",
       "    </tr>\n",
       "    <tr>\n",
       "      <td>7979</td>\n",
       "      <td>1 Immadihalli</td>\n",
       "      <td>11 BHK</td>\n",
       "      <td>6000</td>\n",
       "      <td>12.0</td>\n",
       "      <td>150.0</td>\n",
       "      <td>11</td>\n",
       "    </tr>\n",
       "    <tr>\n",
       "      <td>9935</td>\n",
       "      <td>1Hoysalanagar</td>\n",
       "      <td>13 BHK</td>\n",
       "      <td>5425</td>\n",
       "      <td>13.0</td>\n",
       "      <td>275.0</td>\n",
       "      <td>13</td>\n",
       "    </tr>\n",
       "    <tr>\n",
       "      <td>11559</td>\n",
       "      <td>1Kasavanhalli</td>\n",
       "      <td>18 Bedroom</td>\n",
       "      <td>1200</td>\n",
       "      <td>18.0</td>\n",
       "      <td>200.0</td>\n",
       "      <td>18</td>\n",
       "    </tr>\n",
       "  </tbody>\n",
       "</table>\n",
       "</div>"
      ],
      "text/plain": [
       "                            location        size total_sqft  bath  price  BHK\n",
       "459                     1 Giri Nagar      11 BHK       5000   9.0  360.0   11\n",
       "1718       2Electronic City Phase II      27 BHK       8000  27.0  230.0   27\n",
       "1768              1 Ramamurthy Nagar  11 Bedroom       1200  11.0  170.0   11\n",
       "3379                  1Hanuman Nagar      19 BHK       2000  16.0  490.0   19\n",
       "3609   Koramangala Industrial Layout      16 BHK      10000  16.0  550.0   16\n",
       "3853               1 Annasandrapalya  11 Bedroom       1200   6.0  150.0   11\n",
       "4684                     Munnekollal  43 Bedroom       2400  40.0  660.0   43\n",
       "4916                   1Channasandra      14 BHK       1250  15.0  125.0   14\n",
       "6533                     Mysore Road  12 Bedroom       2232   6.0  300.0   12\n",
       "7979                   1 Immadihalli      11 BHK       6000  12.0  150.0   11\n",
       "9935                   1Hoysalanagar      13 BHK       5425  13.0  275.0   13\n",
       "11559                  1Kasavanhalli  18 Bedroom       1200  18.0  200.0   18"
      ]
     },
     "execution_count": 32,
     "metadata": {},
     "output_type": "execute_result"
    }
   ],
   "source": [
    "data[data.BHK>10]"
   ]
  },
  {
   "cell_type": "code",
   "execution_count": 33,
   "metadata": {},
   "outputs": [
    {
     "data": {
      "text/plain": [
       "array(['1056', '2600', '1440', ..., '1133 - 1384', '774', '4689'],\n",
       "      dtype=object)"
      ]
     },
     "execution_count": 33,
     "metadata": {},
     "output_type": "execute_result"
    }
   ],
   "source": [
    "data['total_sqft'].unique()"
   ]
  },
  {
   "cell_type": "markdown",
   "metadata": {},
   "source": [
    "here some range like 1133-1384 exists"
   ]
  },
  {
   "cell_type": "code",
   "execution_count": 35,
   "metadata": {},
   "outputs": [
    {
     "data": {
      "text/plain": [
       "['2100 - 2850',\n",
       " '3067 - 8156',\n",
       " '1042 - 1105',\n",
       " '1145 - 1340',\n",
       " '1015 - 1540',\n",
       " '34.46Sq. Meter',\n",
       " '1195 - 1440',\n",
       " '4125Perch',\n",
       " '1120 - 1145',\n",
       " '3090 - 5002',\n",
       " '1160 - 1195',\n",
       " '1000Sq. Meter',\n",
       " '1115 - 1130',\n",
       " '1100Sq. Yards',\n",
       " '520 - 645',\n",
       " '1000 - 1285',\n",
       " '650 - 665',\n",
       " '633 - 666',\n",
       " '5.31Acres',\n",
       " '30Acres',\n",
       " '1445 - 1455',\n",
       " '884 - 1116',\n",
       " '850 - 1093',\n",
       " '716Sq. Meter',\n",
       " '547.34 - 827.31',\n",
       " '580 - 650',\n",
       " '3425 - 3435',\n",
       " '1804 - 2273',\n",
       " '3630 - 3800',\n",
       " '4000 - 5249',\n",
       " '1500Sq. Meter',\n",
       " '142.61Sq. Meter',\n",
       " '1574Sq. Yards',\n",
       " '1250 - 1305',\n",
       " '670 - 980',\n",
       " '1005.03 - 1252.49',\n",
       " '3630 - 3800',\n",
       " '1004 - 1204',\n",
       " '361.33Sq. Yards',\n",
       " '645 - 936',\n",
       " '2710 - 3360',\n",
       " '2830 - 2882',\n",
       " '596 - 804',\n",
       " '1255 - 1863',\n",
       " '1300 - 1405',\n",
       " '117Sq. Yards',\n",
       " '934 - 1437',\n",
       " '980 - 1030',\n",
       " '2249.81 - 4112.19',\n",
       " '1070 - 1315',\n",
       " '3040Sq. Meter',\n",
       " '500Sq. Yards',\n",
       " '2806 - 3019',\n",
       " '613 - 648',\n",
       " '704 - 730',\n",
       " '1210 - 1477',\n",
       " '3369 - 3464',\n",
       " '1125 - 1500',\n",
       " '167Sq. Meter',\n",
       " '1076 - 1199',\n",
       " '381 - 535',\n",
       " '524 - 894',\n",
       " '540 - 670',\n",
       " '315Sq. Yards',\n",
       " '2725 - 3250',\n",
       " '888 - 1290',\n",
       " '660 - 700',\n",
       " '385 - 440',\n",
       " '770 - 841',\n",
       " '524 - 894',\n",
       " '3Cents',\n",
       " '188.89Sq. Yards',\n",
       " '1469 - 1766',\n",
       " '204Sq. Meter',\n",
       " '1255 - 1350',\n",
       " '870 - 1080',\n",
       " '45Sq. Yards',\n",
       " '133.3Sq. Yards',\n",
       " '2580 - 2591',\n",
       " '613 - 648',\n",
       " '2563 - 2733',\n",
       " '605 - 624',\n",
       " '1349 - 3324',\n",
       " '78.03Sq. Meter',\n",
       " '1255 - 1350',\n",
       " '3300 - 3335',\n",
       " '1180 - 1630',\n",
       " '1365 - 1700',\n",
       " '122Sq. Yards',\n",
       " '2830 - 2882',\n",
       " '84.53Sq. Meter',\n",
       " '2.09Acres',\n",
       " '2830 - 2882',\n",
       " '981 - 1249',\n",
       " '1565 - 1595',\n",
       " '24Guntha',\n",
       " '1270 - 1275',\n",
       " '840 - 1010',\n",
       " '697Sq. Meter',\n",
       " '2830 - 2882',\n",
       " '655 - 742',\n",
       " '1408 - 1455',\n",
       " '942 - 1117',\n",
       " '142.61Sq. Meter',\n",
       " '598 - 958',\n",
       " '1500Cents',\n",
       " '132Sq. Yards',\n",
       " '1010 - 1300',\n",
       " '2Acres',\n",
       " '1450 - 1950',\n",
       " '1100Sq. Meter',\n",
       " '15Acres',\n",
       " '763 - 805',\n",
       " '3307 - 3464',\n",
       " '1.26Acres',\n",
       " '620 - 934',\n",
       " '2462 - 2467',\n",
       " '540 - 740',\n",
       " '3508 - 4201',\n",
       " '4900 - 4940',\n",
       " '755 - 770',\n",
       " '664 - 722',\n",
       " '151.11Sq. Yards',\n",
       " '596 - 861',\n",
       " '615 - 985',\n",
       " '540 - 565',\n",
       " '750 - 800',\n",
       " '1660 - 1805',\n",
       " '1365 - 1700',\n",
       " '1079 - 1183',\n",
       " '2800 - 2870',\n",
       " '1230 - 1290',\n",
       " '943 - 1220',\n",
       " '2041 - 2090',\n",
       " '527 - 639',\n",
       " '645 - 936',\n",
       " '1Grounds',\n",
       " '1160 - 1315',\n",
       " '706 - 716',\n",
       " '2940Sq. Yards',\n",
       " '45.06Sq. Meter',\n",
       " '799 - 803',\n",
       " '2470 - 2790',\n",
       " '783 - 943',\n",
       " '4500 - 5540',\n",
       " '1255 - 1375',\n",
       " '610 - 615',\n",
       " '854 - 960',\n",
       " '2650 - 2990',\n",
       " '1.25Acres',\n",
       " '86.72Sq. Meter',\n",
       " '381 - 535',\n",
       " '1230 - 1490',\n",
       " '3630 - 3800',\n",
       " '660 - 780',\n",
       " '1150 - 1194',\n",
       " '684 - 810',\n",
       " '1510 - 1670',\n",
       " '1550 - 1590',\n",
       " '1235 - 1410',\n",
       " '38Guntha',\n",
       " '929 - 1078',\n",
       " '2150 - 2225',\n",
       " '1520 - 1759',\n",
       " '2580 - 2591',\n",
       " '629 - 1026',\n",
       " '1215 - 1495',\n",
       " '6Acres',\n",
       " '1140 - 1250',\n",
       " '2400 - 2600',\n",
       " '1052 - 1322',\n",
       " '5666 - 5669',\n",
       " '620 - 934',\n",
       " '712 - 938',\n",
       " '1783 - 1878',\n",
       " '120Sq. Yards',\n",
       " '24Sq. Meter',\n",
       " '2528 - 3188',\n",
       " '650 - 760',\n",
       " '1400 - 1421',\n",
       " '4000 - 4450',\n",
       " '142.84Sq. Meter',\n",
       " '300Sq. Yards',\n",
       " '1115 - 1130',\n",
       " '1437 - 1629',\n",
       " '850 - 1060',\n",
       " '1804 - 2273',\n",
       " '1200 - 1470',\n",
       " '1133 - 1384',\n",
       " '2830 - 2882']"
      ]
     },
     "execution_count": 35,
     "metadata": {},
     "output_type": "execute_result"
    }
   ],
   "source": [
    "#find non float values from total_sqft\n",
    "def find_range_values(val):\n",
    "    range_val = []\n",
    "    for x in val:\n",
    "        try:\n",
    "            float(x)\n",
    "        except:\n",
    "            range_val.append(x)\n",
    "    return range_val\n",
    "\n",
    "find_range_values(data['total_sqft'])"
   ]
  },
  {
   "cell_type": "code",
   "execution_count": 57,
   "metadata": {},
   "outputs": [
    {
     "name": "stdout",
     "output_type": "stream",
     "text": [
      "1000.0\n",
      "1500.0\n",
      "100sqft.\n"
     ]
    }
   ],
   "source": [
    "def convert_range_val(val):\n",
    "    values = val.split('-')\n",
    "    if len(values) == 2:\n",
    "        return (float(values[0])+float(values[1]))/2 \n",
    "    try:\n",
    "        return float(val) \n",
    "    except:\n",
    "        return val\n",
    "\n",
    "print(convert_range_val('1000'))\n",
    "print(convert_range_val('1000-2000'))\n",
    "print(convert_range_val('100sqft.'))"
   ]
  },
  {
   "cell_type": "markdown",
   "metadata": {},
   "source": [
    "acres to sqft : 43560 * acres<br>\n",
    "sq Meters to sqft : 10.764 * sq.meters<br>\n",
    "perch to sqft : 272.25 * perch<br>\n",
    "sqYards to sqft : 9 * sqYards<br>\n",
    "Grounds to sqft : 2400 * ground<br>\n",
    "Cents to sqft : 435.6 * cent<br>\n",
    "gunta to sqft : 1089 * gunta<br>"
   ]
  },
  {
   "cell_type": "code",
   "execution_count": 59,
   "metadata": {},
   "outputs": [],
   "source": [
    "#convert acres to sqft\n",
    "def acres_to_sqft(x):\n",
    "    return x * 43560\n",
    "\n",
    "#convert sq.meters to sqft\n",
    "def sqmt_to_sqft(x):\n",
    "    return x * 10.764\n",
    "\n",
    "#convert perch to sqft\n",
    "def perch_to_sqft(x):\n",
    "    return x * 272.25\n",
    "\n",
    "#convert sq.yards to sqft\n",
    "def sqyards_to_sqft(x):\n",
    "    return x * 9\n",
    "\n",
    "#convert grounds to sqft\n",
    "def grounds_to_sqft(x):\n",
    "    return x * 2400\n",
    "\n",
    "#convert gunta to sqft\n",
    "def gunta_to_sqft(x):\n",
    "    return x * 1089\n",
    "\n",
    "#convert cents to sqft\n",
    "def cents_to_sqft(x):\n",
    "    return x * 435.6"
   ]
  },
  {
   "cell_type": "code",
   "execution_count": 66,
   "metadata": {},
   "outputs": [],
   "source": [
    "def clean_sqft(val):\n",
    "    try:\n",
    "        ans=float(val)\n",
    "    except:\n",
    "        if \"-\" in val:\n",
    "            ans = round(convert_range_val(val),1)\n",
    "        elif \"Acres\" in val:\n",
    "            ans = acres_to_sqft(float(re.findall('\\d+',val)[0]))\n",
    "        elif \"Sq. Meter\" in val:\n",
    "            ans = round(sqmt_to_sqft(float(re.findall('\\d+',val)[0])),1)\n",
    "        elif \"Perch\" in val:\n",
    "            ans = perch_to_sqft(float(re.findall('\\d+',val)[0]))\n",
    "        elif \"Sq. Yards\" in val:\n",
    "            ans = sqyards_to_sqft(float(re.findall('\\d+',val)[0]))\n",
    "        elif \"Grounds\" in val:\n",
    "            ans = grounds_to_sqft(float(re.findall('\\d+',val)[0])) \n",
    "        elif \"Guntha\" in val:\n",
    "            ans = gunta_to_sqft(float(re.findall('\\d+',val)[0]))\n",
    "        elif \"Cents\" in val:\n",
    "            ans = round(cents_to_sqft(float(re.findall('\\d+',val)[0])),1)\n",
    "        return ans\n",
    "    return ans"
   ]
  },
  {
   "cell_type": "code",
   "execution_count": 67,
   "metadata": {},
   "outputs": [
    {
     "name": "stdout",
     "output_type": "stream",
     "text": [
      "1500.0\n",
      "272250.0\n"
     ]
    }
   ],
   "source": [
    "print(clean_sqft('1000-2000'))\n",
    "print(clean_sqft('1000Perch'))"
   ]
  },
  {
   "cell_type": "code",
   "execution_count": 69,
   "metadata": {},
   "outputs": [],
   "source": [
    "data['total_sqft_clean'] = data['total_sqft'].apply(lambda val : clean_sqft(val))"
   ]
  },
  {
   "cell_type": "code",
   "execution_count": 70,
   "metadata": {},
   "outputs": [
    {
     "data": {
      "text/plain": [
       "[]"
      ]
     },
     "execution_count": 70,
     "metadata": {},
     "output_type": "execute_result"
    }
   ],
   "source": [
    "find_range_values(data['total_sqft_clean'])"
   ]
  },
  {
   "cell_type": "code",
   "execution_count": 71,
   "metadata": {},
   "outputs": [],
   "source": [
    "data=data.drop(['size','total_sqft'],axis=1)"
   ]
  },
  {
   "cell_type": "code",
   "execution_count": 73,
   "metadata": {},
   "outputs": [
    {
     "data": {
      "text/html": [
       "<div>\n",
       "<style scoped>\n",
       "    .dataframe tbody tr th:only-of-type {\n",
       "        vertical-align: middle;\n",
       "    }\n",
       "\n",
       "    .dataframe tbody tr th {\n",
       "        vertical-align: top;\n",
       "    }\n",
       "\n",
       "    .dataframe thead th {\n",
       "        text-align: right;\n",
       "    }\n",
       "</style>\n",
       "<table border=\"1\" class=\"dataframe\">\n",
       "  <thead>\n",
       "    <tr style=\"text-align: right;\">\n",
       "      <th></th>\n",
       "      <th>location</th>\n",
       "      <th>bath</th>\n",
       "      <th>price</th>\n",
       "      <th>BHK</th>\n",
       "      <th>total_sqft_clean</th>\n",
       "    </tr>\n",
       "  </thead>\n",
       "  <tbody>\n",
       "    <tr>\n",
       "      <td>0</td>\n",
       "      <td>Electronic City Phase II</td>\n",
       "      <td>2.0</td>\n",
       "      <td>39.07</td>\n",
       "      <td>2</td>\n",
       "      <td>1056.0</td>\n",
       "    </tr>\n",
       "    <tr>\n",
       "      <td>1</td>\n",
       "      <td>Chikka Tirupathi</td>\n",
       "      <td>5.0</td>\n",
       "      <td>120.00</td>\n",
       "      <td>4</td>\n",
       "      <td>2600.0</td>\n",
       "    </tr>\n",
       "    <tr>\n",
       "      <td>2</td>\n",
       "      <td>Uttarahalli</td>\n",
       "      <td>2.0</td>\n",
       "      <td>62.00</td>\n",
       "      <td>3</td>\n",
       "      <td>1440.0</td>\n",
       "    </tr>\n",
       "    <tr>\n",
       "      <td>3</td>\n",
       "      <td>Lingadheeranahalli</td>\n",
       "      <td>3.0</td>\n",
       "      <td>95.00</td>\n",
       "      <td>3</td>\n",
       "      <td>1521.0</td>\n",
       "    </tr>\n",
       "    <tr>\n",
       "      <td>4</td>\n",
       "      <td>Kothanur</td>\n",
       "      <td>2.0</td>\n",
       "      <td>51.00</td>\n",
       "      <td>2</td>\n",
       "      <td>1200.0</td>\n",
       "    </tr>\n",
       "  </tbody>\n",
       "</table>\n",
       "</div>"
      ],
      "text/plain": [
       "                   location  bath   price  BHK  total_sqft_clean\n",
       "0  Electronic City Phase II   2.0   39.07    2            1056.0\n",
       "1          Chikka Tirupathi   5.0  120.00    4            2600.0\n",
       "2               Uttarahalli   2.0   62.00    3            1440.0\n",
       "3        Lingadheeranahalli   3.0   95.00    3            1521.0\n",
       "4                  Kothanur   2.0   51.00    2            1200.0"
      ]
     },
     "execution_count": 73,
     "metadata": {},
     "output_type": "execute_result"
    }
   ],
   "source": [
    "data.head()"
   ]
  },
  {
   "cell_type": "markdown",
   "metadata": {},
   "source": [
    "## create csv file after cleaning data"
   ]
  },
  {
   "cell_type": "code",
   "execution_count": 80,
   "metadata": {},
   "outputs": [],
   "source": [
    "data.to_csv('after_data_cleaning.csv')"
   ]
  }
 ],
 "metadata": {
  "kernelspec": {
   "display_name": "Python 3",
   "language": "python",
   "name": "python3"
  },
  "language_info": {
   "codemirror_mode": {
    "name": "ipython",
    "version": 3
   },
   "file_extension": ".py",
   "mimetype": "text/x-python",
   "name": "python",
   "nbconvert_exporter": "python",
   "pygments_lexer": "ipython3",
   "version": "3.7.4"
  }
 },
 "nbformat": 4,
 "nbformat_minor": 2
}
